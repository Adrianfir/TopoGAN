{
 "cells": [
  {
   "cell_type": "markdown",
   "metadata": {},
   "source": [
    "# TopoGAN"
   ]
  },
  {
   "cell_type": "markdown",
   "metadata": {
    "id": "3eKFKF5HSYbi"
   },
   "source": [
    "### Import packages"
   ]
  },
  {
   "cell_type": "code",
   "execution_count": 1,
   "metadata": {
    "ExecuteTime": {
     "end_time": "2019-05-14T06:31:33.702580Z",
     "start_time": "2019-05-14T06:31:30.063437Z"
    },
    "id": "759gzUFlSYbq",
    "outputId": "d2ec559a-bbb8-4785-8e42-f355c270fbce"
   },
   "outputs": [
    {
     "name": "stderr",
     "output_type": "stream",
     "text": [
      "C:\\Users\\adria\\AppData\\Local\\Temp\\ipykernel_20452\\755364728.py:38: TqdmExperimentalWarning: Using `tqdm.autonotebook.tqdm` in notebook mode. Use `tqdm.tqdm` instead to force console mode (e.g. in jupyter console)\n",
      "  from tqdm.autonotebook import tqdm\n"
     ]
    }
   ],
   "source": [
    "import numpy as np\n",
    "from numpy.random import randn\n",
    "from numpy.random import randint\n",
    "from numpy import asarray\n",
    "import math\n",
    "import scipy\n",
    "from scipy import ndimage\n",
    "\n",
    "import argparse\n",
    "\n",
    "import pandas as pd\n",
    "\n",
    "import matplotlib\n",
    "import matplotlib.pyplot as plt\n",
    "%matplotlib inline\n",
    "\n",
    "import tensorflow as tf\n",
    "\n",
    "from tensorflow import keras \n",
    "from tensorflow.keras.layers import Flatten, Dense, Reshape, Dropout, Input, BatchNormalization, Conv2D, Conv2DTranspose\n",
    "from tensorflow.keras import regularizers\n",
    "from tensorflow.keras.models import Model, Sequential\n",
    "from tensorflow.keras.layers import LeakyReLU\n",
    "from tensorflow.keras.optimizers import RMSprop\n",
    "from tensorflow.keras.callbacks import ModelCheckpoint, EarlyStopping\n",
    "from tensorflow.keras.datasets import fashion_mnist as mnist \n",
    "from tensorflow.keras.models import load_model\n",
    "from tensorflow.keras.initializers import RandomNormal\n",
    "from tensorflow.keras import backend\n",
    "from tensorflow.keras.constraints import Constraint\n",
    "\n",
    "import sklearn\n",
    "from sklearn.preprocessing import StandardScaler, MinMaxScaler\n",
    "from sklearn.model_selection import train_test_split\n",
    "\n",
    "import timeit\n",
    "\n",
    "from tqdm.autonotebook import tqdm\n",
    "\n",
    "from IPython import display\n",
    "\n",
    "from PIL import Image\n",
    "\n",
    "\n",
    "import numpy as np\n",
    "import pandas as pd\n",
    "import os\n",
    "import glob\n",
    "import ntpath\n",
    "\n",
    "import numpy\n",
    "from numpy import cov\n",
    "from numpy import trace\n",
    "from numpy import iscomplexobj\n",
    "from numpy.random import random\n",
    "from scipy.linalg import sqrtm\n",
    "from gtda.diagrams import PersistenceEntropy\n",
    "\n",
    "from gtda.homology import VietorisRipsPersistence\n",
    "VR = VietorisRipsPersistence()"
   ]
  },
  {
   "cell_type": "code",
   "execution_count": 2,
   "metadata": {
    "ExecuteTime": {
     "end_time": "2019-05-14T06:31:30.061880Z",
     "start_time": "2019-05-14T06:31:29.975587Z"
    },
    "id": "at1xYevFSYbl",
    "outputId": "d70e29a0-b0d0-416b-b163-28974fab61fa"
   },
   "outputs": [
    {
     "name": "stdout",
     "output_type": "stream",
     "text": [
      "env: CUDA_VISIBLE_DEVICES=3\n"
     ]
    }
   ],
   "source": [
    "# make visible the only one GPU\n",
    "%env CUDA_VISIBLE_DEVICES=3"
   ]
  },
  {
   "cell_type": "markdown",
   "metadata": {},
   "source": [
    "### Parameters"
   ]
  },
  {
   "cell_type": "code",
   "execution_count": 3,
   "metadata": {},
   "outputs": [],
   "source": [
    "TRAIN_BUF=6000\n",
    "BATCH_SIZE=64\n",
    "TEST_BUF=1000\n",
    "DIMS = (64,64,1)\n",
    "N_TRAIN_BATCHES =1000\n",
    "N_TEST_BATCHES = 500\n",
    "\n",
    "N_Z = 64\n",
    "Dropout_rate = 0.3\n",
    "alpha_LeakyRelu = 0.2\n",
    "l_1 = 0.005\n",
    "l_2 = 0.001\n",
    "\n",
    "n_epochs = 40"
   ]
  },
  {
   "cell_type": "markdown",
   "metadata": {
    "id": "LdCkp6ybSYbw"
   },
   "source": [
    "### Load Train & Test Dataset"
   ]
  },
  {
   "cell_type": "code",
   "execution_count": 4,
   "metadata": {
    "ExecuteTime": {
     "end_time": "2019-05-14T06:31:38.044471Z",
     "start_time": "2019-05-14T06:31:33.805821Z"
    },
    "id": "xhqU6sqiSYbz"
   },
   "outputs": [],
   "source": [
    "\n",
    "\n",
    "train_images_directory = \"C:/Users/adria/OneDrive/Desktop/TopoGan/dataset2_dialated/train_images.csv\"\n",
    "test_images_directory = \"C:/Users/adria/OneDrive/Desktop/TopoGan/dataset2_dialated/test_images.csv\"\n",
    "\n",
    "\n",
    "train_images = pd.read_csv(train_images_directory)\n",
    "train_images = asarray(train_images)\n",
    "train_max = train_images.max()\n",
    "train_images = train_images.reshape(train_images.shape[0],64,64,1).astype('float32')\n",
    "\n",
    "test_images= pd.read_csv(test_images_directory)\n",
    "test_images = asarray(test_images)\n",
    "test_max = test_images.max()\n",
    "test_images = test_images.reshape(test_images.shape[0],64,64,1).astype('float32')\n",
    "\n",
    "# Transform Distance \n",
    "# for i in range(train_images.shape[0]):\n",
    "#     train_images[i,:,:,:] = ndimage.distance_transform_edt(train_images[i,:,:,:])\n",
    "    \n",
    "# for i in range(test_images.shape[0]):\n",
    "#     test_images[i,:,:,:] = ndimage.distance_transform_edt(test_images[i,:,:,:])\n",
    "\n",
    "# train_images = train_images/train_images.max()\n",
    "# test_images = test_images/test_images.max()\n",
    "\n",
    "# batch datasets\n",
    "train_dataset = (tf.data.Dataset.from_tensor_slices(train_images).shuffle(TRAIN_BUF).batch(BATCH_SIZE))\n",
    "\n",
    "test_dataset = ( tf.data.Dataset.from_tensor_slices(test_images).shuffle(TEST_BUF).batch(BATCH_SIZE))"
   ]
  },
  {
   "cell_type": "markdown",
   "metadata": {
    "id": "HLxPlL7QSYb1"
   },
   "source": [
    "### Define Architecture"
   ]
  },
  {
   "cell_type": "code",
   "execution_count": 5,
   "metadata": {
    "ExecuteTime": {
     "end_time": "2019-05-14T06:31:38.219862Z",
     "start_time": "2019-05-14T06:31:38.070570Z"
    },
    "id": "dyU21SGbSYb4",
    "scrolled": true
   },
   "outputs": [],
   "source": [
    "\n",
    "init = tf.keras.initializers.RandomNormal(stddev=0.02)\n",
    "        \n",
    "generator = Sequential()\n",
    "    \n",
    "generator.add(Dense(256*4*4, kernel_initializer=init))\n",
    "# generator.add(BatchNormalization())\n",
    "# generator.add(LeakyReLU(0.2))\n",
    "generator.add(Dropout(Dropout_rate))\n",
    "        \n",
    "generator.add(Reshape((4,4,256)))\n",
    "\n",
    "generator.add(Conv2DTranspose(256,kernel_size=3,strides=2,\\\n",
    "                              padding='same',kernel_initializer=init, activation ='relu'))\n",
    "generator.add(BatchNormalization())\n",
    "# generator.add(LeakyReLU(alpha = 0.2))\n",
    "generator.add(Dropout(Dropout_rate))\n",
    "\n",
    "generator.add(Conv2DTranspose(128,kernel_size=3,strides=2\\\n",
    "                              , padding='same',kernel_initializer=init,activation ='relu'))\n",
    "generator.add(BatchNormalization())\n",
    "# generator.add(LeakyReLU(alpha = 0.2))\n",
    "generator.add(Dropout(Dropout_rate))\n",
    "\n",
    "generator.add(Conv2DTranspose(128,kernel_size=3,strides=1,\\\n",
    "                              padding='same',kernel_initializer=init,activation ='relu'))\n",
    "generator.add(BatchNormalization())\n",
    "# generator.add(LeakyReLU(alpha = 0.2))\n",
    "generator.add(Dropout(Dropout_rate))\n",
    "\n",
    "generator.add(Conv2DTranspose(64,kernel_size=3,strides=2,\\\n",
    "                              padding='same',kernel_initializer=init,activation ='relu'))\n",
    "generator.add(BatchNormalization())\n",
    "# generator.add(LeakyReLU(alpha = 0.2))\n",
    "generator.add(Dropout(Dropout_rate))\n",
    "\n",
    "generator.add(Conv2DTranspose(64,kernel_size=3,strides=1,\\\n",
    "                              padding='same',kernel_initializer=init,activation ='relu'))\n",
    "generator.add(BatchNormalization())\n",
    "# generator.add(LeakyReLU(alpha = 0.2))\n",
    "generator.add(Dropout(Dropout_rate))\n",
    "\n",
    "generator.add(Conv2DTranspose(32,kernel_size=3,strides=2,\\\n",
    "                              padding='same',kernel_initializer=init,activation ='relu'))\n",
    "generator.add(BatchNormalization())\n",
    "# generator.add(LeakyReLU(alpha = 0.2))\n",
    "generator.add(Dropout(Dropout_rate))\n",
    "\n",
    "# generator.add(Conv2DTranspose(16,kernel_size=4,strides=1,\\\n",
    "#                               padding='same',kernel_initializer=init,activation ='relu'))\n",
    "# generator.add(BatchNormalization())\n",
    "# generator.add(LeakyReLU(alpha = 0.2))\n",
    "# generator.add(Dropout(Dropout_rate))\n",
    "        \n",
    "# generator.add(Conv2DTranspose(64,kernel_size=4,strides=1, padding='same',kernel_initializer=init,activation ='relu'))\n",
    "# generator.add(BatchNormalization())\n",
    "# # generator.add(LeakyReLU(alpha = 0.2))\n",
    "# generator.add(Dropout(Dropout_rate))\n",
    "\n",
    "# generator.add(Conv2DTranspose(32,kernel_size=4,strides=1, padding='same',kernel_initializer=init,activation ='relu'))\n",
    "# generator.add(BatchNormalization())\n",
    "# # generator.add(LeakyReLU(alpha = 0.2))\n",
    "# generator.add(Dropout(Dropout_rate))\n",
    "\n",
    "# generator.add(Conv2DTranspose(32,kernel_size=4,strides=1, padding='same',kernel_initializer=init, activation ='relu'))\n",
    "# generator.add(BatchNormalization())\n",
    "# # generator.add(LeakyReLU(alpha = 0.2))\n",
    "# generator.add(Dropout(Dropout_rate))\n",
    "        \n",
    "# generator.add(Conv2DTranspose(64,kernel_size=4, strides=1, padding='same', kernel_initializer=init, activation ='relu'))\n",
    "# generator.add(BatchNormalization())\n",
    "# # generator.add(LeakyReLU(alpha = 0.2))\n",
    "# generator.add(Dropout(Dropout_rate))\n",
    "\n",
    "# generator.add(Conv2DTranspose(32,kernel_size=4, strides=1, padding='same', kernel_initializer=init, activation ='relu'))\n",
    "# generator.add(BatchNormalization())\n",
    "# # generator.add(LeakyReLU(alpha = 0.2))\n",
    "# generator.add(Dropout(Dropout_rate))\n",
    "        \n",
    "generator.add(Conv2DTranspose(1,kernel_size=3,strides=1, padding='same',\\\n",
    "                                     kernel_initializer=init,activation ='tanh'))\n",
    "\n",
    "\n",
    "########################################################################################################################\n",
    "\n",
    "init = tf.keras.initializers.RandomNormal(stddev=0.02)\n",
    "        \n",
    "discriminator = Sequential()\n",
    "        \n",
    "discriminator.add(Conv2D(32, kernel_size = 3, strides=2, input_shape = DIMS,\\\n",
    "                         padding = 'same', kernel_initializer=init))\n",
    "discriminator.add(BatchNormalization())\n",
    "# discriminator.add(LeakyReLU(alpha = 0.2))\n",
    "discriminator.add(Dropout(Dropout_rate))\n",
    "        \n",
    "discriminator.add(Conv2D(64, kernel_size = 3, strides=2,\\\n",
    "                         padding = 'same',  kernel_initializer=init,activation ='relu'))\n",
    "discriminator.add(BatchNormalization())\n",
    "# discriminator.add(LeakyReLU(alpha = 0.2))   \n",
    "discriminator.add(Dropout(Dropout_rate))\n",
    "\n",
    "discriminator.add(Conv2D(64, kernel_size = 3, strides=1,\\\n",
    "                         padding = 'same',  kernel_initializer=init,activation ='relu'))\n",
    "discriminator.add(BatchNormalization())\n",
    "# discriminator.add(LeakyReLU(alpha = 0.2))   \n",
    "discriminator.add(Dropout(Dropout_rate))\n",
    "\n",
    "discriminator.add(Conv2D(128, kernel_size = 3, strides=2,\\\n",
    "                         padding = 'same', kernel_initializer=init, activation ='relu'))\n",
    "discriminator.add(BatchNormalization())\n",
    "# discriminator.add(LeakyReLU(alpha = 0.2))   \n",
    "discriminator.add(Dropout(Dropout_rate))\n",
    "\n",
    "discriminator.add(Conv2D(128, kernel_size = 3, strides=1,\\\n",
    "                         padding = 'same', kernel_initializer=init, activation ='relu'))\n",
    "discriminator.add(BatchNormalization())\n",
    "# discriminator.add(LeakyReLU(alpha = 0.2))   \n",
    "discriminator.add(Dropout(Dropout_rate))\n",
    "\n",
    "discriminator.add(Conv2D(256, kernel_size = 3, strides=2,\\\n",
    "                         padding = 'same', kernel_initializer=init, activation ='relu'))\n",
    "discriminator.add(BatchNormalization())\n",
    "# discriminator.add(LeakyReLU(alpha = 0.2))   \n",
    "discriminator.add(Dropout(Dropout_rate))\n",
    "\n",
    "# discriminator.add(Conv2D(256, kernel_size = 4, strides=1,\\\n",
    "#                          padding = 'same', kernel_initializer=init, activation ='relu'))\n",
    "# discriminator.add(BatchNormalization())\n",
    "# discriminator.add(LeakyReLU(alpha = 0.2))   \n",
    "# discriminator.add(Dropout(Dropout_rate))\n",
    "\n",
    "# discriminator.add(Conv2D(128, kernel_size = 4, strides=1, padding = 'same', kernel_initializer=init, activation ='relu'))\n",
    "# discriminator.add(BatchNormalization())\n",
    "# # discriminator.add(LeakyReLU(alpha = 0.2))   \n",
    "# discriminator.add(Dropout(Dropout_rate))\n",
    "\n",
    "# discriminator.add(Conv2D(256, kernel_size = 4, strides=1, padding = 'same', kernel_initializer=init, activation ='relu'))\n",
    "# discriminator.add(BatchNormalization())\n",
    "# # discriminator.add(LeakyReLU(alpha = 0.2))   \n",
    "# discriminator.add(Dropout(Dropout_rate))\n",
    "\n",
    "# discriminator.add(Conv2D(256, kernel_size = 4, strides=1, padding = 'same', kernel_initializer=init, activation ='relu'))\n",
    "# discriminator.add(BatchNormalization())\n",
    "# discriminator.add(LeakyReLU(alpha = 0.2))   \n",
    "# discriminator.add(Dropout(Dropout_rate))\n",
    "\n",
    "# discriminator.add(Conv2D(256, kernel_size = 4, strides=1, padding = 'same', kernel_initializer=init, activation ='relu'))\n",
    "# discriminator.add(BatchNormalization())\n",
    "# # discriminator.add(LeakyReLU(alpha = 0.2))   \n",
    "# discriminator.add(Dropout(Dropout_rate))\n",
    "\n",
    "# discriminator.add(Conv2D(512, kernel_size = 4, strides=1, padding = 'same', kernel_initializer=init, activation ='relu'))\n",
    "# discriminator.add(BatchNormalization())\n",
    "# # discriminator.add(LeakyReLU(alpha = 0.2))   \n",
    "# discriminator.add(Dropout(Dropout_rate))\n",
    "\n",
    "discriminator.add(Flatten())\n",
    "        \n",
    "discriminator.add(Dense(1))"
   ]
  },
  {
   "cell_type": "markdown",
   "metadata": {},
   "source": [
    "### FID Score"
   ]
  },
  {
   "cell_type": "code",
   "execution_count": 6,
   "metadata": {},
   "outputs": [],
   "source": [
    "# calculate frechet inception distance\n",
    "def calculate_fid(act1, act2):\n",
    "    # calculate mean and covariance statistics\n",
    "    mu1, sigma1 = act1.mean(axis=0), cov(act1, rowvar=False)\n",
    "    mu2, sigma2 = act2.mean(axis=0), cov(act2, rowvar=False)\n",
    "    # calculate sum squared difference between means\n",
    "    ssdiff = numpy.sum((mu1 - mu2)**2.0)\n",
    "    # calculate sqrt of product between cov\n",
    "    covmean = sqrtm(sigma1.dot(sigma2))\n",
    "    # check and correct imaginary numbers from sqrt\n",
    "    if iscomplexobj(covmean):\n",
    "        covmean = covmean.real\n",
    "    # calculate score\n",
    "    fid = ssdiff + trace(sigma1 + sigma2 - 2.0 * covmean)\n",
    "    return fid"
   ]
  },
  {
   "cell_type": "markdown",
   "metadata": {
    "id": "qEVl58nDSYb4"
   },
   "source": [
    "### Define model"
   ]
  },
  {
   "cell_type": "code",
   "execution_count": 7,
   "metadata": {},
   "outputs": [],
   "source": [
    "def TopoLoss(self,train_images):\n",
    "        self.train_images = train_images\n",
    "        topoloss = 0\n",
    "         #persistent homology\n",
    "        for kz in range(32):\n",
    "            c = np.zeros((2,64,64))\n",
    "            c1 = x_gen.numpy().squeeze()[np.random.randint()]\n",
    "            c2 = self.train_images.squeeze()[np.random.randint()]\n",
    "            c[0,:,:]=  c1\n",
    "            c[1,:,:] = c2\n",
    "\n",
    "            c[0,:,:] = ndimage.distance_transform_edt(c[0,:,:])\n",
    "            c[1,:,:] = ndimage.distance_transform_edt(c[1,:,:])\n",
    "\n",
    "            VR = VietorisRipsPersistence(homology_dimensions=[0, 1, 2])  # Parameter explained in the text\n",
    "            diagrams = VR.fit_transform(c)\n",
    "            PE = PersistenceEntropy()\n",
    "            features = PE.fit_transform(diagrams)\n",
    "        \n",
    "            topoloss = topoloss + tf.reduce_mean(diagrams[0][:,0]-diagrams[0][:,1])   \n",
    "            return topoloss"
   ]
  },
  {
   "cell_type": "code",
   "execution_count": 8,
   "metadata": {
    "ExecuteTime": {
     "end_time": "2019-05-14T06:31:38.068468Z",
     "start_time": "2019-05-14T06:31:38.046751Z"
    },
    "id": "Wyipg-4oSYb1"
   },
   "outputs": [],
   "source": [
    "class WGAN(tf.keras.Model):\n",
    "    \"\"\"[summary]\n",
    "    I used github/LynnHo/DCGAN-LSGAN-WGAN-GP-DRAGAN-Tensorflow-2/ as a reference on this.\n",
    "    \n",
    "    Extends:\n",
    "        tf.keras.Model\n",
    "    \"\"\"\n",
    "\n",
    "    def __init__(self, **kwargs):\n",
    "        super(WGAN, self).__init__()\n",
    "        self.__dict__.update(kwargs)\n",
    "\n",
    "        self.gen = tf.keras.Sequential(self.gen)\n",
    "        self.disc = tf.keras.Sequential(self.disc)\n",
    "\n",
    "    def generate(self, z):\n",
    "        return self.gen(z)\n",
    "\n",
    "    def discriminate(self, x):\n",
    "        return self.disc(x)\n",
    "\n",
    "    def compute_loss(self, x):\n",
    "        \"\"\" passes through the network and computes loss\n",
    "        \"\"\"\n",
    "        ### pass through network\n",
    "        # generating noise from a uniform distribution\n",
    "\n",
    "        z_samp = tf.random.normal([x.shape[0], 1, 1, self.n_Z])\n",
    "\n",
    "        # run noise through generator\n",
    "        x_gen = self.generate(z_samp)\n",
    "        # discriminate x and x_gen\n",
    "        logits_x = self.discriminate(x)\n",
    "        logits_x_gen = self.discriminate(x_gen)\n",
    "\n",
    "        # gradient penalty\n",
    "        d_regularizer = self.gradient_penalty(x, x_gen)\n",
    "        ### losses\n",
    "        disc_loss = (\n",
    "            tf.reduce_mean(logits_x)\n",
    "            - tf.reduce_mean(logits_x_gen)\n",
    "            + d_regularizer * self.gradient_penalty_weight)\n",
    "        \n",
    "        \n",
    "         ### Gen_loss\n",
    "#         topoloss = self.TopoLoss(train_images)\n",
    "        gen_loss = tf.reduce_mean(logits_x_gen)\n",
    "\n",
    "        return disc_loss, gen_loss\n",
    "\n",
    "    def compute_gradients(self, x):\n",
    "        \n",
    "        \"\"\" passes through the network and computes loss\n",
    "        \"\"\"\n",
    "        ### pass through network\n",
    "        with tf.GradientTape() as gen_tape, tf.GradientTape() as disc_tape:\n",
    "            \n",
    "            disc_loss, gen_loss = self.compute_loss(x)\n",
    "\n",
    "        # compute gradients\n",
    "        gen_gradients = gen_tape.gradient(gen_loss, self.gen.trainable_variables)\n",
    "\n",
    "        disc_gradients = disc_tape.gradient(disc_loss, self.disc.trainable_variables)\n",
    "\n",
    "        return gen_gradients, disc_gradients\n",
    "\n",
    "    def apply_gradients(self, gen_gradients, disc_gradients):\n",
    "\n",
    "        self.gen_optimizer.apply_gradients(\n",
    "            zip(gen_gradients, self.gen.trainable_variables)\n",
    "        )\n",
    "        self.disc_optimizer.apply_gradients(\n",
    "            zip(disc_gradients, self.disc.trainable_variables)\n",
    "        )\n",
    "\n",
    "    def gradient_penalty(self, x, x_gen):\n",
    "        epsilon = tf.random.uniform([x.shape[0], 1, 1, 1], 0.0, 1.0)\n",
    "        x_hat = epsilon * x + (1 - epsilon) * x_gen\n",
    "        with tf.GradientTape() as t:\n",
    "            t.watch(x_hat)\n",
    "            d_hat = self.discriminate(x_hat)\n",
    "        gradients = t.gradient(d_hat, x_hat)\n",
    "        ddx = tf.sqrt(tf.reduce_sum(gradients ** 2, axis=[1, 2]))\n",
    "        d_regularizer = tf.reduce_mean((ddx - 1.0) ** 2)\n",
    "        return d_regularizer\n",
    "\n",
    "    @tf.function\n",
    "    def train(self, train_x):\n",
    "        gen_gradients, disc_gradients = self.compute_gradients(train_x)\n",
    "        self.apply_gradients(gen_gradients, disc_gradients)"
   ]
  },
  {
   "cell_type": "markdown",
   "metadata": {
    "ExecuteTime": {
     "end_time": "2019-05-10T18:40:40.306731Z",
     "start_time": "2019-05-10T18:40:40.292930Z"
    },
    "id": "wi_ZuWBdSYb6"
   },
   "source": [
    "### Create Model"
   ]
  },
  {
   "cell_type": "code",
   "execution_count": 9,
   "metadata": {
    "ExecuteTime": {
     "end_time": "2019-05-14T06:31:39.047233Z",
     "start_time": "2019-05-14T06:31:38.222179Z"
    },
    "id": "dSYjNRAwSYb7"
   },
   "outputs": [],
   "source": [
    "# optimizers\n",
    "gen_optimizer = tf.keras.optimizers.RMSprop(0.0001)\n",
    "disc_optimizer = tf.keras.optimizers.RMSprop(0.0001)\n",
    "# model\n",
    "model = WGAN(\n",
    "    gen = generator,\n",
    "    disc = discriminator,\n",
    "    gen_optimizer = gen_optimizer,\n",
    "    disc_optimizer = disc_optimizer,\n",
    "    n_Z = N_Z,\n",
    "    gradient_penalty_weight = 10.0\n",
    ")"
   ]
  },
  {
   "cell_type": "markdown",
   "metadata": {
    "id": "qwBg8NwrSYb9"
   },
   "source": [
    "### Train the model"
   ]
  },
  {
   "cell_type": "code",
   "execution_count": 27,
   "metadata": {
    "ExecuteTime": {
     "end_time": "2019-05-14T06:31:39.056490Z",
     "start_time": "2019-05-14T06:31:39.049635Z"
    },
    "id": "47sz8RMeSYb-"
   },
   "outputs": [],
   "source": [
    "# exampled data for plotting results\n",
    "def plot_reconstruction(model, train_images):\n",
    "    nex=8\n",
    "    zm=2\n",
    "    samples = model.generate(tf.random.normal(shape=(BATCH_SIZE, N_Z)))\n",
    "    fig, axs = plt.subplots(ncols=nex, nrows=1, figsize=(zm * nex, zm))\n",
    "    for axi in range(nex):\n",
    "        axs[axi].matshow(\n",
    "                    samples.numpy()[axi].squeeze(), cmap=plt.cm.BuGn, vmin=0, vmax=1\n",
    "                )\n",
    "        axs[axi].axis('off')\n",
    "    plt.show()\n",
    "    act1 = samples.numpy().squeeze()[np.random.randint(0,samples.numpy().squeeze().shape[0])]\n",
    "    act2 = train_images.squeeze()[np.random.randint(train_images.shape[0])]\n",
    "\n",
    "    fid = calculate_fid(act1, act1)\n",
    "    print('FID (same): %.3f' % fid)\n",
    "    # fid between act1 and act2\n",
    "    fid = calculate_fid(act1, act2)\n",
    "    print('FID (different): %.3f' % fid)"
   ]
  },
  {
   "cell_type": "code",
   "execution_count": 23,
   "metadata": {
    "ExecuteTime": {
     "end_time": "2019-05-14T06:31:39.152670Z",
     "start_time": "2019-05-14T06:31:39.058505Z"
    },
    "id": "pKkEX9yBSYcB"
   },
   "outputs": [],
   "source": [
    "# a pandas dataframe to save the loss information to\n",
    "losses = pd.DataFrame(columns = ['disc_loss', 'gen_loss'])"
   ]
  },
  {
   "cell_type": "code",
   "execution_count": 12,
   "metadata": {
    "ExecuteTime": {
     "end_time": "2019-05-14T07:04:26.791634Z",
     "start_time": "2019-05-14T07:04:17.126436Z"
    },
    "id": "00dI2M4iSYcE",
    "outputId": "8312d004-9e5d-43a1-f28f-6d182bd9add2"
   },
   "outputs": [
    {
     "name": "stdout",
     "output_type": "stream",
     "text": [
      "Epoch: 34 | disc_loss: -1.5378117561340332 | gen_loss: -12.037920951843262\n"
     ]
    },
    {
     "data": {
      "image/png": "[encoded data removed]",
      "text/plain": [
       "<Figure size 1152x144 with 8 Axes>"
      ]
     },
     "metadata": {
      "needs_background": "light"
     },
     "output_type": "display_data"
    },
    {
     "name": "stdout",
     "output_type": "stream",
     "text": [
      "FID (same): -0.000\n",
      "FID (different): 16.476\n"
     ]
    },
    {
     "data": {
      "application/vnd.jupyter.widget-view+json": {
       "model_id": "356cfe4c82be40ad8832163924bbe5ce",
       "version_major": 2,
       "version_minor": 0
      },
      "text/plain": [
       "  0%|          | 0/1000 [00:00<?, ?it/s]"
      ]
     },
     "metadata": {},
     "output_type": "display_data"
    },
    {
     "ename": "KeyboardInterrupt",
     "evalue": "",
     "output_type": "error",
     "traceback": [
      "\u001b[1;31m---------------------------------------------------------------------------\u001b[0m",
      "\u001b[1;31mKeyboardInterrupt\u001b[0m                         Traceback (most recent call last)",
      "Input \u001b[1;32mIn [12]\u001b[0m, in \u001b[0;36m<cell line: 1>\u001b[1;34m()\u001b[0m\n\u001b[0;32m      1\u001b[0m \u001b[38;5;28;01mfor\u001b[39;00m epoch \u001b[38;5;129;01min\u001b[39;00m \u001b[38;5;28mrange\u001b[39m(n_epochs):\n\u001b[0;32m      2\u001b[0m     \u001b[38;5;66;03m# train\u001b[39;00m\n\u001b[0;32m      3\u001b[0m     \u001b[38;5;28;01mfor\u001b[39;00m batch, train_x \u001b[38;5;129;01min\u001b[39;00m tqdm(\n\u001b[0;32m      4\u001b[0m         \u001b[38;5;28mzip\u001b[39m(\u001b[38;5;28mrange\u001b[39m(N_TRAIN_BATCHES), train_dataset), total\u001b[38;5;241m=\u001b[39mN_TRAIN_BATCHES\n\u001b[0;32m      5\u001b[0m     ):\n\u001b[1;32m----> 6\u001b[0m         \u001b[43mmodel\u001b[49m\u001b[38;5;241;43m.\u001b[39;49m\u001b[43mtrain\u001b[49m\u001b[43m(\u001b[49m\u001b[43mtrain_x\u001b[49m\u001b[43m)\u001b[49m\n\u001b[0;32m      7\u001b[0m     \u001b[38;5;66;03m# test on holdout\u001b[39;00m\n\u001b[0;32m      8\u001b[0m     loss \u001b[38;5;241m=\u001b[39m []\n",
      "File \u001b[1;32m~\\anaconda3\\envs\\pouya\\lib\\site-packages\\tensorflow\\python\\eager\\def_function.py:780\u001b[0m, in \u001b[0;36mFunction.__call__\u001b[1;34m(self, *args, **kwds)\u001b[0m\n\u001b[0;32m    778\u001b[0m \u001b[38;5;28;01melse\u001b[39;00m:\n\u001b[0;32m    779\u001b[0m   compiler \u001b[38;5;241m=\u001b[39m \u001b[38;5;124m\"\u001b[39m\u001b[38;5;124mnonXla\u001b[39m\u001b[38;5;124m\"\u001b[39m\n\u001b[1;32m--> 780\u001b[0m   result \u001b[38;5;241m=\u001b[39m \u001b[38;5;28;43mself\u001b[39;49m\u001b[38;5;241;43m.\u001b[39;49m\u001b[43m_call\u001b[49m\u001b[43m(\u001b[49m\u001b[38;5;241;43m*\u001b[39;49m\u001b[43margs\u001b[49m\u001b[43m,\u001b[49m\u001b[43m \u001b[49m\u001b[38;5;241;43m*\u001b[39;49m\u001b[38;5;241;43m*\u001b[39;49m\u001b[43mkwds\u001b[49m\u001b[43m)\u001b[49m\n\u001b[0;32m    782\u001b[0m new_tracing_count \u001b[38;5;241m=\u001b[39m \u001b[38;5;28mself\u001b[39m\u001b[38;5;241m.\u001b[39m_get_tracing_count()\n\u001b[0;32m    783\u001b[0m without_tracing \u001b[38;5;241m=\u001b[39m (tracing_count \u001b[38;5;241m==\u001b[39m new_tracing_count)\n",
      "File \u001b[1;32m~\\anaconda3\\envs\\pouya\\lib\\site-packages\\tensorflow\\python\\eager\\def_function.py:807\u001b[0m, in \u001b[0;36mFunction._call\u001b[1;34m(self, *args, **kwds)\u001b[0m\n\u001b[0;32m    804\u001b[0m   \u001b[38;5;28mself\u001b[39m\u001b[38;5;241m.\u001b[39m_lock\u001b[38;5;241m.\u001b[39mrelease()\n\u001b[0;32m    805\u001b[0m   \u001b[38;5;66;03m# In this case we have created variables on the first call, so we run the\u001b[39;00m\n\u001b[0;32m    806\u001b[0m   \u001b[38;5;66;03m# defunned version which is guaranteed to never create variables.\u001b[39;00m\n\u001b[1;32m--> 807\u001b[0m   \u001b[38;5;28;01mreturn\u001b[39;00m \u001b[38;5;28;43mself\u001b[39;49m\u001b[38;5;241;43m.\u001b[39;49m\u001b[43m_stateless_fn\u001b[49m\u001b[43m(\u001b[49m\u001b[38;5;241;43m*\u001b[39;49m\u001b[43margs\u001b[49m\u001b[43m,\u001b[49m\u001b[43m \u001b[49m\u001b[38;5;241;43m*\u001b[39;49m\u001b[38;5;241;43m*\u001b[39;49m\u001b[43mkwds\u001b[49m\u001b[43m)\u001b[49m  \u001b[38;5;66;03m# pylint: disable=not-callable\u001b[39;00m\n\u001b[0;32m    808\u001b[0m \u001b[38;5;28;01melif\u001b[39;00m \u001b[38;5;28mself\u001b[39m\u001b[38;5;241m.\u001b[39m_stateful_fn \u001b[38;5;129;01mis\u001b[39;00m \u001b[38;5;129;01mnot\u001b[39;00m \u001b[38;5;28;01mNone\u001b[39;00m:\n\u001b[0;32m    809\u001b[0m   \u001b[38;5;66;03m# Release the lock early so that multiple threads can perform the call\u001b[39;00m\n\u001b[0;32m    810\u001b[0m   \u001b[38;5;66;03m# in parallel.\u001b[39;00m\n\u001b[0;32m    811\u001b[0m   \u001b[38;5;28mself\u001b[39m\u001b[38;5;241m.\u001b[39m_lock\u001b[38;5;241m.\u001b[39mrelease()\n",
      "File \u001b[1;32m~\\anaconda3\\envs\\pouya\\lib\\site-packages\\tensorflow\\python\\eager\\function.py:2829\u001b[0m, in \u001b[0;36mFunction.__call__\u001b[1;34m(self, *args, **kwargs)\u001b[0m\n\u001b[0;32m   2827\u001b[0m \u001b[38;5;28;01mwith\u001b[39;00m \u001b[38;5;28mself\u001b[39m\u001b[38;5;241m.\u001b[39m_lock:\n\u001b[0;32m   2828\u001b[0m   graph_function, args, kwargs \u001b[38;5;241m=\u001b[39m \u001b[38;5;28mself\u001b[39m\u001b[38;5;241m.\u001b[39m_maybe_define_function(args, kwargs)\n\u001b[1;32m-> 2829\u001b[0m \u001b[38;5;28;01mreturn\u001b[39;00m \u001b[43mgraph_function\u001b[49m\u001b[38;5;241;43m.\u001b[39;49m\u001b[43m_filtered_call\u001b[49m\u001b[43m(\u001b[49m\u001b[43margs\u001b[49m\u001b[43m,\u001b[49m\u001b[43m \u001b[49m\u001b[43mkwargs\u001b[49m\u001b[43m)\u001b[49m\n",
      "File \u001b[1;32m~\\anaconda3\\envs\\pouya\\lib\\site-packages\\tensorflow\\python\\eager\\function.py:1843\u001b[0m, in \u001b[0;36mConcreteFunction._filtered_call\u001b[1;34m(self, args, kwargs, cancellation_manager)\u001b[0m\n\u001b[0;32m   1827\u001b[0m \u001b[38;5;28;01mdef\u001b[39;00m \u001b[38;5;21m_filtered_call\u001b[39m(\u001b[38;5;28mself\u001b[39m, args, kwargs, cancellation_manager\u001b[38;5;241m=\u001b[39m\u001b[38;5;28;01mNone\u001b[39;00m):\n\u001b[0;32m   1828\u001b[0m   \u001b[38;5;124;03m\"\"\"Executes the function, filtering arguments from the Python function.\u001b[39;00m\n\u001b[0;32m   1829\u001b[0m \n\u001b[0;32m   1830\u001b[0m \u001b[38;5;124;03m  Objects aside from Tensors, CompositeTensors, and Variables are ignored.\u001b[39;00m\n\u001b[1;32m   (...)\u001b[0m\n\u001b[0;32m   1841\u001b[0m \u001b[38;5;124;03m    `args` and `kwargs`.\u001b[39;00m\n\u001b[0;32m   1842\u001b[0m \u001b[38;5;124;03m  \"\"\"\u001b[39;00m\n\u001b[1;32m-> 1843\u001b[0m   \u001b[38;5;28;01mreturn\u001b[39;00m \u001b[38;5;28;43mself\u001b[39;49m\u001b[38;5;241;43m.\u001b[39;49m\u001b[43m_call_flat\u001b[49m\u001b[43m(\u001b[49m\n\u001b[0;32m   1844\u001b[0m \u001b[43m      \u001b[49m\u001b[43m[\u001b[49m\u001b[43mt\u001b[49m\u001b[43m \u001b[49m\u001b[38;5;28;43;01mfor\u001b[39;49;00m\u001b[43m \u001b[49m\u001b[43mt\u001b[49m\u001b[43m \u001b[49m\u001b[38;5;129;43;01min\u001b[39;49;00m\u001b[43m \u001b[49m\u001b[43mnest\u001b[49m\u001b[38;5;241;43m.\u001b[39;49m\u001b[43mflatten\u001b[49m\u001b[43m(\u001b[49m\u001b[43m(\u001b[49m\u001b[43margs\u001b[49m\u001b[43m,\u001b[49m\u001b[43m \u001b[49m\u001b[43mkwargs\u001b[49m\u001b[43m)\u001b[49m\u001b[43m,\u001b[49m\u001b[43m \u001b[49m\u001b[43mexpand_composites\u001b[49m\u001b[38;5;241;43m=\u001b[39;49m\u001b[38;5;28;43;01mTrue\u001b[39;49;00m\u001b[43m)\u001b[49m\n\u001b[0;32m   1845\u001b[0m \u001b[43m       \u001b[49m\u001b[38;5;28;43;01mif\u001b[39;49;00m\u001b[43m \u001b[49m\u001b[38;5;28;43misinstance\u001b[39;49m\u001b[43m(\u001b[49m\u001b[43mt\u001b[49m\u001b[43m,\u001b[49m\u001b[43m \u001b[49m\u001b[43m(\u001b[49m\u001b[43mops\u001b[49m\u001b[38;5;241;43m.\u001b[39;49m\u001b[43mTensor\u001b[49m\u001b[43m,\u001b[49m\n\u001b[0;32m   1846\u001b[0m \u001b[43m                         \u001b[49m\u001b[43mresource_variable_ops\u001b[49m\u001b[38;5;241;43m.\u001b[39;49m\u001b[43mBaseResourceVariable\u001b[49m\u001b[43m)\u001b[49m\u001b[43m)\u001b[49m\u001b[43m]\u001b[49m\u001b[43m,\u001b[49m\n\u001b[0;32m   1847\u001b[0m \u001b[43m      \u001b[49m\u001b[43mcaptured_inputs\u001b[49m\u001b[38;5;241;43m=\u001b[39;49m\u001b[38;5;28;43mself\u001b[39;49m\u001b[38;5;241;43m.\u001b[39;49m\u001b[43mcaptured_inputs\u001b[49m\u001b[43m,\u001b[49m\n\u001b[0;32m   1848\u001b[0m \u001b[43m      \u001b[49m\u001b[43mcancellation_manager\u001b[49m\u001b[38;5;241;43m=\u001b[39;49m\u001b[43mcancellation_manager\u001b[49m\u001b[43m)\u001b[49m\n",
      "File \u001b[1;32m~\\anaconda3\\envs\\pouya\\lib\\site-packages\\tensorflow\\python\\eager\\function.py:1923\u001b[0m, in \u001b[0;36mConcreteFunction._call_flat\u001b[1;34m(self, args, captured_inputs, cancellation_manager)\u001b[0m\n\u001b[0;32m   1918\u001b[0m possible_gradient_type \u001b[38;5;241m=\u001b[39m (\n\u001b[0;32m   1919\u001b[0m     pywrap_tfe\u001b[38;5;241m.\u001b[39mTFE_Py_TapeSetPossibleGradientTypes(args))\n\u001b[0;32m   1920\u001b[0m \u001b[38;5;28;01mif\u001b[39;00m (possible_gradient_type \u001b[38;5;241m==\u001b[39m _POSSIBLE_GRADIENT_TYPES_NONE\n\u001b[0;32m   1921\u001b[0m     \u001b[38;5;129;01mand\u001b[39;00m executing_eagerly):\n\u001b[0;32m   1922\u001b[0m   \u001b[38;5;66;03m# No tape is watching; skip to running the function.\u001b[39;00m\n\u001b[1;32m-> 1923\u001b[0m   \u001b[38;5;28;01mreturn\u001b[39;00m \u001b[38;5;28mself\u001b[39m\u001b[38;5;241m.\u001b[39m_build_call_outputs(\u001b[38;5;28;43mself\u001b[39;49m\u001b[38;5;241;43m.\u001b[39;49m\u001b[43m_inference_function\u001b[49m\u001b[38;5;241;43m.\u001b[39;49m\u001b[43mcall\u001b[49m\u001b[43m(\u001b[49m\n\u001b[0;32m   1924\u001b[0m \u001b[43m      \u001b[49m\u001b[43mctx\u001b[49m\u001b[43m,\u001b[49m\u001b[43m \u001b[49m\u001b[43margs\u001b[49m\u001b[43m,\u001b[49m\u001b[43m \u001b[49m\u001b[43mcancellation_manager\u001b[49m\u001b[38;5;241;43m=\u001b[39;49m\u001b[43mcancellation_manager\u001b[49m\u001b[43m)\u001b[49m)\n\u001b[0;32m   1925\u001b[0m forward_backward \u001b[38;5;241m=\u001b[39m \u001b[38;5;28mself\u001b[39m\u001b[38;5;241m.\u001b[39m_select_forward_and_backward_functions(\n\u001b[0;32m   1926\u001b[0m     args,\n\u001b[0;32m   1927\u001b[0m     possible_gradient_type,\n\u001b[0;32m   1928\u001b[0m     executing_eagerly)\n\u001b[0;32m   1929\u001b[0m forward_function, args_with_tangents \u001b[38;5;241m=\u001b[39m forward_backward\u001b[38;5;241m.\u001b[39mforward()\n",
      "File \u001b[1;32m~\\anaconda3\\envs\\pouya\\lib\\site-packages\\tensorflow\\python\\eager\\function.py:545\u001b[0m, in \u001b[0;36m_EagerDefinedFunction.call\u001b[1;34m(self, ctx, args, cancellation_manager)\u001b[0m\n\u001b[0;32m    543\u001b[0m \u001b[38;5;28;01mwith\u001b[39;00m _InterpolateFunctionError(\u001b[38;5;28mself\u001b[39m):\n\u001b[0;32m    544\u001b[0m   \u001b[38;5;28;01mif\u001b[39;00m cancellation_manager \u001b[38;5;129;01mis\u001b[39;00m \u001b[38;5;28;01mNone\u001b[39;00m:\n\u001b[1;32m--> 545\u001b[0m     outputs \u001b[38;5;241m=\u001b[39m \u001b[43mexecute\u001b[49m\u001b[38;5;241;43m.\u001b[39;49m\u001b[43mexecute\u001b[49m\u001b[43m(\u001b[49m\n\u001b[0;32m    546\u001b[0m \u001b[43m        \u001b[49m\u001b[38;5;28;43mstr\u001b[39;49m\u001b[43m(\u001b[49m\u001b[38;5;28;43mself\u001b[39;49m\u001b[38;5;241;43m.\u001b[39;49m\u001b[43msignature\u001b[49m\u001b[38;5;241;43m.\u001b[39;49m\u001b[43mname\u001b[49m\u001b[43m)\u001b[49m\u001b[43m,\u001b[49m\n\u001b[0;32m    547\u001b[0m \u001b[43m        \u001b[49m\u001b[43mnum_outputs\u001b[49m\u001b[38;5;241;43m=\u001b[39;49m\u001b[38;5;28;43mself\u001b[39;49m\u001b[38;5;241;43m.\u001b[39;49m\u001b[43m_num_outputs\u001b[49m\u001b[43m,\u001b[49m\n\u001b[0;32m    548\u001b[0m \u001b[43m        \u001b[49m\u001b[43minputs\u001b[49m\u001b[38;5;241;43m=\u001b[39;49m\u001b[43margs\u001b[49m\u001b[43m,\u001b[49m\n\u001b[0;32m    549\u001b[0m \u001b[43m        \u001b[49m\u001b[43mattrs\u001b[49m\u001b[38;5;241;43m=\u001b[39;49m\u001b[43mattrs\u001b[49m\u001b[43m,\u001b[49m\n\u001b[0;32m    550\u001b[0m \u001b[43m        \u001b[49m\u001b[43mctx\u001b[49m\u001b[38;5;241;43m=\u001b[39;49m\u001b[43mctx\u001b[49m\u001b[43m)\u001b[49m\n\u001b[0;32m    551\u001b[0m   \u001b[38;5;28;01melse\u001b[39;00m:\n\u001b[0;32m    552\u001b[0m     outputs \u001b[38;5;241m=\u001b[39m execute\u001b[38;5;241m.\u001b[39mexecute_with_cancellation(\n\u001b[0;32m    553\u001b[0m         \u001b[38;5;28mstr\u001b[39m(\u001b[38;5;28mself\u001b[39m\u001b[38;5;241m.\u001b[39msignature\u001b[38;5;241m.\u001b[39mname),\n\u001b[0;32m    554\u001b[0m         num_outputs\u001b[38;5;241m=\u001b[39m\u001b[38;5;28mself\u001b[39m\u001b[38;5;241m.\u001b[39m_num_outputs,\n\u001b[1;32m   (...)\u001b[0m\n\u001b[0;32m    557\u001b[0m         ctx\u001b[38;5;241m=\u001b[39mctx,\n\u001b[0;32m    558\u001b[0m         cancellation_manager\u001b[38;5;241m=\u001b[39mcancellation_manager)\n",
      "File \u001b[1;32m~\\anaconda3\\envs\\pouya\\lib\\site-packages\\tensorflow\\python\\eager\\execute.py:59\u001b[0m, in \u001b[0;36mquick_execute\u001b[1;34m(op_name, num_outputs, inputs, attrs, ctx, name)\u001b[0m\n\u001b[0;32m     57\u001b[0m \u001b[38;5;28;01mtry\u001b[39;00m:\n\u001b[0;32m     58\u001b[0m   ctx\u001b[38;5;241m.\u001b[39mensure_initialized()\n\u001b[1;32m---> 59\u001b[0m   tensors \u001b[38;5;241m=\u001b[39m \u001b[43mpywrap_tfe\u001b[49m\u001b[38;5;241;43m.\u001b[39;49m\u001b[43mTFE_Py_Execute\u001b[49m\u001b[43m(\u001b[49m\u001b[43mctx\u001b[49m\u001b[38;5;241;43m.\u001b[39;49m\u001b[43m_handle\u001b[49m\u001b[43m,\u001b[49m\u001b[43m \u001b[49m\u001b[43mdevice_name\u001b[49m\u001b[43m,\u001b[49m\u001b[43m \u001b[49m\u001b[43mop_name\u001b[49m\u001b[43m,\u001b[49m\n\u001b[0;32m     60\u001b[0m \u001b[43m                                      \u001b[49m\u001b[43minputs\u001b[49m\u001b[43m,\u001b[49m\u001b[43m \u001b[49m\u001b[43mattrs\u001b[49m\u001b[43m,\u001b[49m\u001b[43m \u001b[49m\u001b[43mnum_outputs\u001b[49m\u001b[43m)\u001b[49m\n\u001b[0;32m     61\u001b[0m \u001b[38;5;28;01mexcept\u001b[39;00m core\u001b[38;5;241m.\u001b[39m_NotOkStatusException \u001b[38;5;28;01mas\u001b[39;00m e:\n\u001b[0;32m     62\u001b[0m   \u001b[38;5;28;01mif\u001b[39;00m name \u001b[38;5;129;01mis\u001b[39;00m \u001b[38;5;129;01mnot\u001b[39;00m \u001b[38;5;28;01mNone\u001b[39;00m:\n",
      "\u001b[1;31mKeyboardInterrupt\u001b[0m: "
     ]
    }
   ],
   "source": [
    "\n",
    "for epoch in range(n_epochs):\n",
    "    # train\n",
    "    for batch, train_x in tqdm(\n",
    "        zip(range(N_TRAIN_BATCHES), train_dataset), total=N_TRAIN_BATCHES\n",
    "    ):\n",
    "        model.train(train_x)\n",
    "    # test on holdout\n",
    "    loss = []\n",
    "    for batch, test_x in tqdm(\n",
    "        zip(range(N_TEST_BATCHES), test_dataset), total=N_TEST_BATCHES\n",
    "    ):\n",
    "        loss.append(model.compute_loss(train_x))\n",
    "    losses.loc[len(losses)] = np.mean(loss, axis=0)\n",
    "    # plot results\n",
    "    display.clear_output()\n",
    "    print(\n",
    "        \"Epoch: {} | disc_loss: {} | gen_loss: {}\".format(\n",
    "            epoch, losses.disc_loss.values[-1], losses.gen_loss.values[-1]\n",
    "        )\n",
    "    )\n",
    "    plot_reconstruction(model,train_images)"
   ]
  },
  {
   "cell_type": "code",
   "execution_count": 13,
   "metadata": {
    "ExecuteTime": {
     "end_time": "2019-05-14T06:46:24.425722Z",
     "start_time": "2019-05-14T06:46:24.188266Z"
    },
    "id": "XZbwB70ESYcH",
    "outputId": "40913f5e-a991-4d25-c56a-086acb4c0cd6"
   },
   "outputs": [
    {
     "data": {
      "text/plain": [
       "[<matplotlib.lines.Line2D at 0x207d799ea30>]"
      ]
     },
     "execution_count": 13,
     "metadata": {},
     "output_type": "execute_result"
    },
    {
     "data": {
      "image/png": "[encoded data removed]",
      "text/plain": [
       "<Figure size 432x288 with 1 Axes>"
      ]
     },
     "metadata": {
      "needs_background": "light"
     },
     "output_type": "display_data"
    }
   ],
   "source": [
    "plt.plot(losses.gen_loss.values)"
   ]
  },
  {
   "cell_type": "code",
   "execution_count": 14,
   "metadata": {
    "ExecuteTime": {
     "end_time": "2019-05-14T06:46:38.649136Z",
     "start_time": "2019-05-14T06:46:38.440378Z"
    },
    "id": "FydTnKDxSYcL",
    "outputId": "503e0a49-2ed1-4c2d-9072-adc57dae5ae8"
   },
   "outputs": [
    {
     "data": {
      "text/plain": [
       "[<matplotlib.lines.Line2D at 0x207de80bca0>]"
      ]
     },
     "execution_count": 14,
     "metadata": {},
     "output_type": "execute_result"
    },
    {
     "data": {
      "image/png": "[encoded data removed]",
      "text/plain": [
       "<Figure size 432x288 with 1 Axes>"
      ]
     },
     "metadata": {
      "needs_background": "light"
     },
     "output_type": "display_data"
    }
   ],
   "source": [
    "plt.plot(losses.disc_loss.values)"
   ]
  }
 ],
 "metadata": {
  "accelerator": "GPU",
  "colab": {
   "collapsed_sections": [],
   "name": "3.0-WGAN-GP-fashion-mnist.ipynb",
   "provenance": [],
   "toc_visible": true
  },
  "kernelspec": {
   "display_name": "Python 3 (ipykernel)",
   "language": "python",
   "name": "python3"
  },
  "language_info": {
   "codemirror_mode": {
    "name": "ipython",
    "version": 3
   },
   "file_extension": ".py",
   "mimetype": "text/x-python",
   "name": "python",
   "nbconvert_exporter": "python",
   "pygments_lexer": "ipython3",
   "version": "3.8.12"
  }
 },
 "nbformat": 4,
 "nbformat_minor": 1
}
