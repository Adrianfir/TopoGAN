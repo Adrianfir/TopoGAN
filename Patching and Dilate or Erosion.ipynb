{
 "cells": [
  {
   "cell_type": "markdown",
   "id": "8ddae271",
   "metadata": {},
   "source": [
    "### Packages"
   ]
  },
  {
   "cell_type": "code",
   "execution_count": 22,
   "id": "e584b7e8",
   "metadata": {},
   "outputs": [],
   "source": [
    "import numpy as np\n",
    "from matplotlib import pyplot as plt\n",
    "from patchify import patchify\n",
    "import tifffile as tiff\n",
    "\n",
    "# load image and convert to and from NumPy array\n",
    "import PIL\n",
    "from PIL import Image\n",
    "from numpy import asarray\n",
    "\n",
    "import numpy as np\n",
    "import pandas as pd\n",
    "import os\n",
    "import glob\n",
    "import ntpath\n",
    "import h5py\n",
    "import cv2\n",
    "import imageio as iio\n",
    "import scipy\n",
    "from scipy import ndimage"
   ]
  },
  {
   "cell_type": "markdown",
   "id": "3eaf3912",
   "metadata": {},
   "source": [
    "### Reading images and Patchigng "
   ]
  },
  {
   "cell_type": "code",
   "execution_count": 2,
   "id": "3c2b9258",
   "metadata": {
    "collapsed": true
   },
   "outputs": [
    {
     "ename": "ValueError",
     "evalue": "`window_shape` is incompatible with `arr_in.shape`",
     "output_type": "error",
     "traceback": [
      "\u001b[1;31m---------------------------------------------------------------------------\u001b[0m",
      "\u001b[1;31mValueError\u001b[0m                                Traceback (most recent call last)",
      "Input \u001b[1;32mIn [2]\u001b[0m, in \u001b[0;36m<cell line: 4>\u001b[1;34m()\u001b[0m\n\u001b[0;32m      9\u001b[0m \u001b[38;5;28;01mfor\u001b[39;00m msk \u001b[38;5;129;01min\u001b[39;00m \u001b[38;5;28mrange\u001b[39m(large_mask_stack\u001b[38;5;241m.\u001b[39mshape[\u001b[38;5;241m0\u001b[39m]):\n\u001b[0;32m     11\u001b[0m     large_mask \u001b[38;5;241m=\u001b[39m large_mask_stack[msk]\n\u001b[1;32m---> 13\u001b[0m     patches_mask \u001b[38;5;241m=\u001b[39m \u001b[43mpatchify\u001b[49m\u001b[43m(\u001b[49m\u001b[43mlarge_mask\u001b[49m\u001b[43m,\u001b[49m\u001b[43m \u001b[49m\u001b[43m(\u001b[49m\u001b[38;5;241;43m64\u001b[39;49m\u001b[43m,\u001b[49m\u001b[43m \u001b[49m\u001b[38;5;241;43m64\u001b[39;49m\u001b[43m)\u001b[49m\u001b[43m,\u001b[49m\u001b[43m \u001b[49m\u001b[43mstep\u001b[49m\u001b[38;5;241;43m=\u001b[39;49m\u001b[38;5;241;43m256\u001b[39;49m\u001b[43m)\u001b[49m  \u001b[38;5;66;03m#Step=256 for 256 patches means no overlap\u001b[39;00m\n\u001b[0;32m     16\u001b[0m     \u001b[38;5;28;01mfor\u001b[39;00m i \u001b[38;5;129;01min\u001b[39;00m \u001b[38;5;28mrange\u001b[39m(patches_mask\u001b[38;5;241m.\u001b[39mshape[\u001b[38;5;241m0\u001b[39m]):\n\u001b[0;32m     17\u001b[0m         \u001b[38;5;28;01mfor\u001b[39;00m j \u001b[38;5;129;01min\u001b[39;00m \u001b[38;5;28mrange\u001b[39m(patches_mask\u001b[38;5;241m.\u001b[39mshape[\u001b[38;5;241m1\u001b[39m]):\n",
      "File \u001b[1;32m~\\anaconda3\\envs\\pouya\\lib\\site-packages\\patchify\\__init__.py:32\u001b[0m, in \u001b[0;36mpatchify\u001b[1;34m(image, patch_size, step)\u001b[0m\n\u001b[0;32m     14\u001b[0m \u001b[38;5;28;01mdef\u001b[39;00m \u001b[38;5;21mpatchify\u001b[39m(image: np\u001b[38;5;241m.\u001b[39mndarray, patch_size: Imsize, step: \u001b[38;5;28mint\u001b[39m \u001b[38;5;241m=\u001b[39m \u001b[38;5;241m1\u001b[39m) \u001b[38;5;241m-\u001b[39m\u001b[38;5;241m>\u001b[39m np\u001b[38;5;241m.\u001b[39mndarray:\n\u001b[0;32m     15\u001b[0m     \u001b[38;5;124;03m\"\"\"\u001b[39;00m\n\u001b[0;32m     16\u001b[0m \u001b[38;5;124;03m    Split a 2D or 3D image into small patches given the patch size.\u001b[39;00m\n\u001b[0;32m     17\u001b[0m \n\u001b[1;32m   (...)\u001b[0m\n\u001b[0;32m     30\u001b[0m \u001b[38;5;124;03m    >>> assert (reconstructed_image == image).all()\u001b[39;00m\n\u001b[0;32m     31\u001b[0m \u001b[38;5;124;03m    \"\"\"\u001b[39;00m\n\u001b[1;32m---> 32\u001b[0m     \u001b[38;5;28;01mreturn\u001b[39;00m \u001b[43mview_as_windows\u001b[49m\u001b[43m(\u001b[49m\u001b[43mimage\u001b[49m\u001b[43m,\u001b[49m\u001b[43m \u001b[49m\u001b[43mpatch_size\u001b[49m\u001b[43m,\u001b[49m\u001b[43m \u001b[49m\u001b[43mstep\u001b[49m\u001b[43m)\u001b[49m\n",
      "File \u001b[1;32m~\\anaconda3\\envs\\pouya\\lib\\site-packages\\patchify\\view_as_windows.py:28\u001b[0m, in \u001b[0;36mview_as_windows\u001b[1;34m(arr_in, window_shape, step)\u001b[0m\n\u001b[0;32m     26\u001b[0m     window_shape \u001b[38;5;241m=\u001b[39m (window_shape,) \u001b[38;5;241m*\u001b[39m ndim\n\u001b[0;32m     27\u001b[0m \u001b[38;5;28;01mif\u001b[39;00m \u001b[38;5;129;01mnot\u001b[39;00m (\u001b[38;5;28mlen\u001b[39m(window_shape) \u001b[38;5;241m==\u001b[39m ndim):\n\u001b[1;32m---> 28\u001b[0m     \u001b[38;5;28;01mraise\u001b[39;00m \u001b[38;5;167;01mValueError\u001b[39;00m(\u001b[38;5;124m\"\u001b[39m\u001b[38;5;124m`window_shape` is incompatible with `arr_in.shape`\u001b[39m\u001b[38;5;124m\"\u001b[39m)\n\u001b[0;32m     30\u001b[0m \u001b[38;5;28;01mif\u001b[39;00m \u001b[38;5;28misinstance\u001b[39m(step, numbers\u001b[38;5;241m.\u001b[39mNumber):\n\u001b[0;32m     31\u001b[0m     \u001b[38;5;28;01mif\u001b[39;00m step \u001b[38;5;241m<\u001b[39m \u001b[38;5;241m1\u001b[39m:\n",
      "\u001b[1;31mValueError\u001b[0m: `window_shape` is incompatible with `arr_in.shape`"
     ]
    }
   ],
   "source": [
    "path = os.getcwd()\n",
    "tif_files = glob.glob(os.path.join(\"C:/Users/adria/OneDrive/Desktop\", \"*.tif\"))\n",
    "\n",
    "for i in tif_files:\n",
    "    \n",
    "    large_mask_stack = tiff.imread(i)\n",
    "    \n",
    "    \n",
    "    for msk in range(large_mask_stack.shape[0]):\n",
    "     \n",
    "        large_mask = large_mask_stack[msk]\n",
    "    \n",
    "        patches_mask = patchify(large_mask, (64, 64), step=256)  #Step=256 for 256 patches means no overlap\n",
    "    \n",
    "\n",
    "        for i in range(patches_mask.shape[0]):\n",
    "            for j in range(patches_mask.shape[1]):\n",
    "            \n",
    "                single_patch_mask = patches_mask[i,j,:,:]\n",
    "                tiff.imwrite('C:/Users/adria/OneDrive/Desktop/dataset2/' + 'mask_' + str(msk) + '_' + str(i)+str(j)+ \".tif\", single_patch_mask)\n",
    "                single_patch_mask = single_patch_mask / 255."
   ]
  },
  {
   "cell_type": "code",
   "execution_count": null,
   "id": "597f2329",
   "metadata": {},
   "outputs": [],
   "source": [
    "\n",
    "# Importing Image class from PIL module\n",
    "from PIL import Image\n",
    " \n",
    "# Opens a image in RGB mode\n",
    "im = Image.open(\"C:/Users/adria/OneDrive/Desktop/15_h.tif\")\n",
    " \n",
    "# Size of the image in pixels (size of original image)\n",
    "# (This is not mandatory)\n",
    "width, height = im.size\n",
    " \n",
    "# Setting the points for cropped image\n",
    "left = 155\n",
    "top = 65\n",
    "right = 360\n",
    "bottom = 270\n",
    " \n",
    "# Cropped image of above dimension\n",
    "# (It will not change original image)\n",
    "im1 = im.crop((left, top, right, bottom))\n",
    " \n",
    "# Shows the image in image viewer\n",
    "im1.show()"
   ]
  },
  {
   "cell_type": "markdown",
   "id": "10caa15c",
   "metadata": {},
   "source": [
    "### Showing"
   ]
  },
  {
   "cell_type": "code",
   "execution_count": 16,
   "id": "16df5fe7",
   "metadata": {
    "collapsed": true
   },
   "outputs": [
    {
     "name": "stderr",
     "output_type": "stream",
     "text": [
      "C:\\Users\\adria\\AppData\\Local\\Temp\\ipykernel_20236\\1894560681.py:14: UserWarning: Matplotlib is currently using module://matplotlib_inline.backend_inline, which is a non-GUI backend, so cannot show the figure.\n",
      "  fig.show()\n"
     ]
    },
    {
     "data": {
      "image/png": "[encoded data removed]",
      "text/plain": [
       "<Figure size 576x576 with 1 Axes>"
      ]
     },
     "metadata": {
      "needs_background": "light"
     },
     "output_type": "display_data"
    }
   ],
   "source": [
    "gen_imgs = DT\n",
    "# gen_imgs = 0.5*gen_imgs + 0.5\n",
    "\n",
    "fig,axs = plt.subplots(1,figsize=(8,8),sharey=True,sharex=True)\n",
    "\n",
    "# cnt=0\n",
    "# for i in range(4):\n",
    "#     for j in range(4):\n",
    "#         axs[i, j].imshow(gen_imgs[cnt,:,:,0],cmap='gray')\n",
    "#         axs[i, j].axis('off')\n",
    "#         cnt+=1\n",
    "axs.imshow(gen_imgs,cmap='gray')\n",
    "axs.axis('off')\n",
    "fig.show()"
   ]
  },
  {
   "cell_type": "markdown",
   "id": "d4727099",
   "metadata": {},
   "source": [
    "### cropping"
   ]
  },
  {
   "cell_type": "code",
   "execution_count": 56,
   "id": "59bccac7",
   "metadata": {
    "collapsed": true
   },
   "outputs": [
    {
     "ename": "AttributeError",
     "evalue": "'numpy.ndarray' object has no attribute 'crop'",
     "output_type": "error",
     "traceback": [
      "\u001b[1;31m---------------------------------------------------------------------------\u001b[0m",
      "\u001b[1;31mAttributeError\u001b[0m                            Traceback (most recent call last)",
      "Input \u001b[1;32mIn [56]\u001b[0m, in \u001b[0;36m<cell line: 10>\u001b[1;34m()\u001b[0m\n\u001b[0;32m      6\u001b[0m right \u001b[38;5;241m=\u001b[39m \u001b[38;5;241m460\u001b[39m\n\u001b[0;32m      7\u001b[0m bottom \u001b[38;5;241m=\u001b[39m \u001b[38;5;241m460\u001b[39m\n\u001b[1;32m---> 10\u001b[0m img_res \u001b[38;5;241m=\u001b[39m \u001b[43mimg\u001b[49m\u001b[38;5;241;43m.\u001b[39;49m\u001b[43mcrop\u001b[49m((left, top, right, bottom)) \n\u001b[0;32m     13\u001b[0m img_res\u001b[38;5;241m.\u001b[39mshow()\n",
      "\u001b[1;31mAttributeError\u001b[0m: 'numpy.ndarray' object has no attribute 'crop'"
     ]
    }
   ],
   "source": [
    "img = im\n",
    " \n",
    " \n",
    "left = 400\n",
    "top = 400\n",
    "right = 460\n",
    "bottom = 460\n",
    " \n",
    "  \n",
    "img_res = img.crop((left, top, right, bottom)) \n",
    " \n",
    " \n",
    "img_res.show() "
   ]
  },
  {
   "cell_type": "markdown",
   "id": "6eb3d4f5",
   "metadata": {},
   "source": [
    "### Resizing"
   ]
  },
  {
   "cell_type": "code",
   "execution_count": 9,
   "id": "184a75f8",
   "metadata": {},
   "outputs": [],
   "source": [
    "foo = x\n",
    "# I downsize the image with an ANTIALIAS filter (gives the highest quality)\n",
    "foo = foo.resize((128,128),Image.ANTIALIAS)\n",
    "foo.save(\"C:/Users/adria/OneDrive/Desktop/1.tiff\",quality=95)\n",
    " # The saved downsized image size is 24.8kb\n",
    "foo.save(\"C:/Users/adria/OneDrive/Desktop/2.tiff\",optimize=True,quality=95)\n",
    " # The saved downsized image size is 22.9kb"
   ]
  },
  {
   "cell_type": "markdown",
   "id": "110a4581",
   "metadata": {},
   "source": [
    "### Dialating / Erosion Trainset"
   ]
  },
  {
   "cell_type": "code",
   "execution_count": 20,
   "id": "eb451348",
   "metadata": {},
   "outputs": [],
   "source": [
    "path = os.getcwd()\n",
    "tif_files = glob.glob(os.path.join(\"C:/Users/adria/OneDrive/Desktop\", \"*.tif\"))"
   ]
  },
  {
   "cell_type": "code",
   "execution_count": null,
   "id": "5a81b1a9",
   "metadata": {},
   "outputs": [],
   "source": []
  },
  {
   "cell_type": "code",
   "execution_count": 24,
   "id": "07a25f28",
   "metadata": {},
   "outputs": [
    {
     "ename": "error",
     "evalue": "OpenCV(4.5.5) :-1: error: (-5:Bad argument) in function 'dilate'\n> Overload resolution failed:\n>  - src data type = 0 is not supported\n>  - Expected Ptr<cv::UMat> for argument 'src'\n",
     "output_type": "error",
     "traceback": [
      "\u001b[1;31m---------------------------------------------------------------------------\u001b[0m",
      "\u001b[1;31merror\u001b[0m                                     Traceback (most recent call last)",
      "Input \u001b[1;32mIn [24]\u001b[0m, in \u001b[0;36m<cell line: 4>\u001b[1;34m()\u001b[0m\n\u001b[0;32m     16\u001b[0m im[im\u001b[38;5;241m>\u001b[39m\u001b[38;5;241m=\u001b[39mavg]\u001b[38;5;241m=\u001b[39m\u001b[38;5;241m255\u001b[39m\n\u001b[0;32m     17\u001b[0m im[im\u001b[38;5;241m<\u001b[39mavg] \u001b[38;5;241m=\u001b[39m \u001b[38;5;241m0\u001b[39m\n\u001b[1;32m---> 18\u001b[0m img_dilate \u001b[38;5;241m=\u001b[39m \u001b[43mcv2\u001b[49m\u001b[38;5;241;43m.\u001b[39;49m\u001b[43mdilate\u001b[49m\u001b[43m(\u001b[49m\u001b[43mim\u001b[49m\u001b[43m,\u001b[49m\u001b[43m \u001b[49m\u001b[43mkernel\u001b[49m\u001b[43m,\u001b[49m\u001b[43m \u001b[49m\u001b[43miterations\u001b[49m\u001b[38;5;241;43m=\u001b[39;49m\u001b[38;5;241;43m1\u001b[39;49m\u001b[43m)\u001b[49m\n\u001b[0;32m     19\u001b[0m img_dilate \u001b[38;5;241m=\u001b[39m Image\u001b[38;5;241m.\u001b[39mfromarray(img_dilate)\u001b[38;5;241m.\u001b[39mconvert(\u001b[38;5;124m'\u001b[39m\u001b[38;5;124m1\u001b[39m\u001b[38;5;124m'\u001b[39m)\n\u001b[0;32m     20\u001b[0m img_dilate\u001b[38;5;241m.\u001b[39msave(\u001b[38;5;124m'\u001b[39m\u001b[38;5;124mC:/Users/adria/OneDrive/Desktop/\u001b[39m\u001b[38;5;124m'\u001b[39m \u001b[38;5;241m+\u001b[39m \u001b[38;5;124m'\u001b[39m\u001b[38;5;124mmask_\u001b[39m\u001b[38;5;124m'\u001b[39m \u001b[38;5;241m+\u001b[39m \u001b[38;5;28mstr\u001b[39m(k)  \u001b[38;5;241m+\u001b[39m \u001b[38;5;124m\"\u001b[39m\u001b[38;5;124m.tif\u001b[39m\u001b[38;5;124m\"\u001b[39m)\n",
      "\u001b[1;31merror\u001b[0m: OpenCV(4.5.5) :-1: error: (-5:Bad argument) in function 'dilate'\n> Overload resolution failed:\n>  - src data type = 0 is not supported\n>  - Expected Ptr<cv::UMat> for argument 'src'\n"
     ]
    }
   ],
   "source": [
    "kernel = np.ones((3,3), np.uint8)\n",
    "\n",
    "k=0\n",
    "for z in tif_files:\n",
    "    \n",
    "    im = Image.open(z)\n",
    "    im = asarray(im)\n",
    "    m,n = im.shape\n",
    "    avg = im.mean()\n",
    "#     for i in range(m):\n",
    "#         for j in range(n):\n",
    "#             if im[i,j]>avg:\n",
    "#                 im[i,j] = 255\n",
    "#             else:\n",
    "#                 im[i,j] = 0\n",
    "    im[im>=avg]=255\n",
    "    im[im<avg] = 0\n",
    "    img_dilate = cv2.dilate(im, kernel, iterations=1)\n",
    "    img_dilate = Image.fromarray(img_dilate).convert('1')\n",
    "    img_dilate.save('C:/Users/adria/OneDrive/Desktop/' + 'mask_' + str(k)  + \".tif\")\n",
    "    k+=1\n",
    "\n",
    "\n",
    "   "
   ]
  },
  {
   "cell_type": "markdown",
   "id": "ffd41911",
   "metadata": {},
   "source": [
    "### Dialating / Erosion Testset"
   ]
  },
  {
   "cell_type": "code",
   "execution_count": 74,
   "id": "144e714d",
   "metadata": {},
   "outputs": [],
   "source": [
    "path = os.getcwd()\n",
    "tif_files = glob.glob(os.path.join(\"C:/Users/adria/OneDrive/Desktop/dataset2/test\", \"*.tif\"))"
   ]
  },
  {
   "cell_type": "code",
   "execution_count": 75,
   "id": "a397e531",
   "metadata": {},
   "outputs": [],
   "source": [
    "kernel = np.ones((3,3), np.uint8)\n",
    "\n",
    "k=0\n",
    "for z in tif_files:\n",
    "    \n",
    "    im = Image.open(z)\n",
    "    im = asarray(im)\n",
    "    m,n = im.shape\n",
    "    avg = im.mean()\n",
    "#     for i in range(m):\n",
    "#         for j in range(n):\n",
    "#             if im[i,j]>avg:\n",
    "#                 im[i,j] = 255\n",
    "#             else:\n",
    "#                 im[i,j] = 0\n",
    "    im[im>=avg]=255\n",
    "    im[im<avg] = 0\n",
    "    img_dilate = cv2.dilate(im, kernel, iterations=1)\n",
    "    img_dilate = Image.fromarray(img_dilate).convert('1')\n",
    "    img_dilate.save('C:/Users/adria/OneDrive/Desktop/TopoGan/dataset2_dialated/test/' + 'mask_' + str(k)  + \".tif\")\n",
    "    k+=1\n",
    "\n",
    "\n",
    "   "
   ]
  },
  {
   "cell_type": "code",
   "execution_count": null,
   "id": "4fae3bf3",
   "metadata": {},
   "outputs": [],
   "source": []
  }
 ],
 "metadata": {
  "kernelspec": {
   "display_name": "Python 3 (ipykernel)",
   "language": "python",
   "name": "python3"
  },
  "language_info": {
   "codemirror_mode": {
    "name": "ipython",
    "version": 3
   },
   "file_extension": ".py",
   "mimetype": "text/x-python",
   "name": "python",
   "nbconvert_exporter": "python",
   "pygments_lexer": "ipython3",
   "version": "3.8.12"
  }
 },
 "nbformat": 4,
 "nbformat_minor": 5
}
