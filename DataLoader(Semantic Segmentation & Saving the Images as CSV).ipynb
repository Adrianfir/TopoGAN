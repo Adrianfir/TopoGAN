{
 "cells": [
  {
   "cell_type": "code",
   "execution_count": 1,
   "id": "6f10d7c0",
   "metadata": {},
   "outputs": [],
   "source": [
    "import numpy as np\n",
    "from numpy.random import randn\n",
    "from numpy.random import randint\n",
    "import math\n",
    "import scipy\n",
    "from scipy import ndimage\n",
    "\n",
    "import pandas as pd\n",
    "\n",
    "from IPython import display\n",
    "\n",
    "from PIL import Image\n",
    "from numpy import asarray\n",
    "import cv2\n",
    "\n",
    "import numpy as np\n",
    "import pandas as pd\n",
    "import os\n",
    "import glob\n",
    "import ntpath"
   ]
  },
  {
   "cell_type": "markdown",
   "id": "f900bb63",
   "metadata": {},
   "source": [
    "## Function to Read Images and Save Them as Array"
   ]
  },
  {
   "cell_type": "code",
   "execution_count": 2,
   "id": "c224d239",
   "metadata": {},
   "outputs": [],
   "source": [
    "def save_images_as_csv(train_images_address,\n",
    "                       test_images_address,\n",
    "                       train_images_output_address,\n",
    "                       test_images_output_address):\n",
    "    \n",
    "    \n",
    "    path = os.getcwd()\n",
    "    tif_files_train = glob.glob(os.path.join(train_images_address, \"*.tif\"))\n",
    "    tif_files_test = glob.glob(os.path.join(test_images_address, \"*.tif\"))\n",
    "\n",
    "    # load the training images and save it to an tensor\n",
    "\n",
    "    train_images = np.zeros((len(tif_files_train),64,64))\n",
    "    j=0\n",
    "    for i in tif_files_train:\n",
    "\n",
    "\n",
    "#         image = cv2.imread(i, 1).convert('L')\n",
    "#         image = cv2.cvtColor(image, cv2.COLOR_RGB2GRAY\n",
    "        image = Image.open(i).convert('1')\n",
    "#         image = image.convert('L')\n",
    "        train_images[j,:,:] = asarray(image)\n",
    "        j+=1\n",
    "        \n",
    "#         if j==103:\n",
    "#             break \n",
    "            \n",
    "\n",
    "\n",
    "    # load the test images and save it to an tensor\n",
    "\n",
    "    test_images = np.zeros((len(tif_files_test),64,64))\n",
    "    j=0\n",
    "    for i in tif_files_test:\n",
    "        \n",
    "        image = Image.open(i).convert('1')\n",
    "#         image = cv2.imread(i, 1)\n",
    "#         image = cv2.cvtColor(image, cv2.COLOR_RGB2GRAY)\n",
    "#         image = image.convert('L')\n",
    "        test_images[j,:,:] = asarray(image)\n",
    "        j+=1\n",
    "\n",
    "    df_train = pd.DataFrame(train_images.reshape(train_images.shape[0],-1))\n",
    "\n",
    "    df_test = pd.DataFrame(test_images.reshape(test_images.shape[0],-1))\n",
    "\n",
    "    df_train.to_csv(train_images_output_address, index=False)\n",
    "    df_test.to_csv(test_images_output_address, index=False)"
   ]
  },
  {
   "cell_type": "markdown",
   "id": "9c1dc9b8",
   "metadata": {},
   "source": [
    "## Run the Function"
   ]
  },
  {
   "cell_type": "code",
   "execution_count": 3,
   "id": "b7e74355",
   "metadata": {},
   "outputs": [],
   "source": [
    "save_images_as_csv(\"C:/Users/adria/OneDrive/Desktop/TopoGan/dataset/train\",\n",
    "                   \"C:/Users/adria/OneDrive/Desktop/TopoGan/dataset/test\",\n",
    "                    \"C:/Users/adria/OneDrive/Desktop/TopoGan/dataset/train_images.csv\",\n",
    "                  \"C:/Users/adria/OneDrive/Desktop/TopoGan/dataset/test_images.csv\")"
   ]
  },
  {
   "cell_type": "code",
   "execution_count": null,
   "id": "ef3c7787",
   "metadata": {},
   "outputs": [],
   "source": []
  }
 ],
 "metadata": {
  "kernelspec": {
   "display_name": "Python 3 (ipykernel)",
   "language": "python",
   "name": "python3"
  },
  "language_info": {
   "codemirror_mode": {
    "name": "ipython",
    "version": 3
   },
   "file_extension": ".py",
   "mimetype": "text/x-python",
   "name": "python",
   "nbconvert_exporter": "python",
   "pygments_lexer": "ipython3",
   "version": "3.8.12"
  }
 },
 "nbformat": 4,
 "nbformat_minor": 5
}
